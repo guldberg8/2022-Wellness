{
 "cells": [
  {
   "cell_type": "markdown",
   "metadata": {},
   "source": [
    "# 2022 Wellness Tracking"
   ]
  },
  {
   "cell_type": "markdown",
   "metadata": {},
   "source": [
    "## Objectives "
   ]
  },
  {
   "cell_type": "markdown",
   "metadata": {},
   "source": [
    "The objective of this project is to record and analyze the relationships between input variables and target variables throughout the 2022 Midland Rockhound season in the Texas League of AA baseball to create actionable ideas on how to increase performance. This project also strives to incorporate mental variables as well as physical ones, in the hopes of observing the impacts of mental health and training in sport as well as physical."
   ]
  },
  {
   "cell_type": "markdown",
   "metadata": {},
   "source": [
    "## Methods "
   ]
  },
  {
   "cell_type": "markdown",
   "metadata": {},
   "source": [
    "This project will involve various data cleaning and manipulation methods, which will be more specifically explained upon implementation. However, the focus of this project is on machine learning implementations, and analyzing feature impact on target variables."
   ]
  },
  {
   "cell_type": "markdown",
   "metadata": {},
   "source": [
    "## Imports and Data Cleaning "
   ]
  },
  {
   "cell_type": "code",
   "execution_count": 1,
   "metadata": {},
   "outputs": [],
   "source": [
    "import pandas as pd\n",
    "import numpy as np\n",
    "import matplotlib.pyplot as plt\n",
    "from sklearn.model_selection import train_test_split"
   ]
  },
  {
   "cell_type": "code",
   "execution_count": 2,
   "metadata": {},
   "outputs": [],
   "source": [
    "# Importing CSV data\n",
    "\n",
    "filename = 'Data/michael_wellness_data.csv'\n",
    "def read_csv(filename):\n",
    "    df = pd.read_csv(filename)\n",
    "    return df\n",
    "\n",
    "data = read_csv(filename)\n",
    "column_headers = data.columns"
   ]
  },
  {
   "cell_type": "code",
   "execution_count": 3,
   "metadata": {},
   "outputs": [
    {
     "data": {
      "text/html": [
       "<div>\n",
       "<style scoped>\n",
       "    .dataframe tbody tr th:only-of-type {\n",
       "        vertical-align: middle;\n",
       "    }\n",
       "\n",
       "    .dataframe tbody tr th {\n",
       "        vertical-align: top;\n",
       "    }\n",
       "\n",
       "    .dataframe thead th {\n",
       "        text-align: right;\n",
       "    }\n",
       "</style>\n",
       "<table border=\"1\" class=\"dataframe\">\n",
       "  <thead>\n",
       "    <tr style=\"text-align: right;\">\n",
       "      <th></th>\n",
       "      <th>Date</th>\n",
       "      <th>Day of Week</th>\n",
       "      <th>Whoop Recovery</th>\n",
       "      <th>HRV</th>\n",
       "      <th>Hours of Sleep</th>\n",
       "      <th>Body Weight</th>\n",
       "      <th>Body Fat %</th>\n",
       "      <th>Body Water %</th>\n",
       "      <th>Hydration Score (urine)</th>\n",
       "      <th>Sick Feeling</th>\n",
       "      <th>...</th>\n",
       "      <th>Lift?</th>\n",
       "      <th>Protein Shake?</th>\n",
       "      <th>Fun Rating</th>\n",
       "      <th>Family Love Rating</th>\n",
       "      <th>Tired Rating</th>\n",
       "      <th>Strain</th>\n",
       "      <th>Alcohol (# of Drinks)</th>\n",
       "      <th>CBD (mg)</th>\n",
       "      <th>Melatonin</th>\n",
       "      <th>Current BA</th>\n",
       "    </tr>\n",
       "  </thead>\n",
       "  <tbody>\n",
       "    <tr>\n",
       "      <th>0</th>\n",
       "      <td>4/14/2022</td>\n",
       "      <td>2</td>\n",
       "      <td>99.0</td>\n",
       "      <td>61.0</td>\n",
       "      <td>8.95</td>\n",
       "      <td>174.5</td>\n",
       "      <td>NaN</td>\n",
       "      <td>NaN</td>\n",
       "      <td>7.0</td>\n",
       "      <td>2.0</td>\n",
       "      <td>...</td>\n",
       "      <td>0.0</td>\n",
       "      <td>0.0</td>\n",
       "      <td>7.0</td>\n",
       "      <td>7.0</td>\n",
       "      <td>5.0</td>\n",
       "      <td>15.7</td>\n",
       "      <td>0.0</td>\n",
       "      <td>0.0</td>\n",
       "      <td>0.0</td>\n",
       "      <td>NaN</td>\n",
       "    </tr>\n",
       "    <tr>\n",
       "      <th>1</th>\n",
       "      <td>4/15/2022</td>\n",
       "      <td>3</td>\n",
       "      <td>81.0</td>\n",
       "      <td>51.0</td>\n",
       "      <td>9.05</td>\n",
       "      <td>NaN</td>\n",
       "      <td>NaN</td>\n",
       "      <td>NaN</td>\n",
       "      <td>7.0</td>\n",
       "      <td>1.0</td>\n",
       "      <td>...</td>\n",
       "      <td>1.0</td>\n",
       "      <td>0.0</td>\n",
       "      <td>2.0</td>\n",
       "      <td>6.0</td>\n",
       "      <td>8.0</td>\n",
       "      <td>17.5</td>\n",
       "      <td>0.0</td>\n",
       "      <td>0.0</td>\n",
       "      <td>0.0</td>\n",
       "      <td>NaN</td>\n",
       "    </tr>\n",
       "    <tr>\n",
       "      <th>2</th>\n",
       "      <td>4/16/2022</td>\n",
       "      <td>4</td>\n",
       "      <td>82.0</td>\n",
       "      <td>51.0</td>\n",
       "      <td>8.33</td>\n",
       "      <td>NaN</td>\n",
       "      <td>NaN</td>\n",
       "      <td>NaN</td>\n",
       "      <td>5.0</td>\n",
       "      <td>1.0</td>\n",
       "      <td>...</td>\n",
       "      <td>0.0</td>\n",
       "      <td>0.0</td>\n",
       "      <td>4.0</td>\n",
       "      <td>6.0</td>\n",
       "      <td>6.0</td>\n",
       "      <td>13.9</td>\n",
       "      <td>2.0</td>\n",
       "      <td>0.0</td>\n",
       "      <td>0.0</td>\n",
       "      <td>NaN</td>\n",
       "    </tr>\n",
       "    <tr>\n",
       "      <th>3</th>\n",
       "      <td>4/17/2022</td>\n",
       "      <td>5</td>\n",
       "      <td>76.0</td>\n",
       "      <td>51.0</td>\n",
       "      <td>7.32</td>\n",
       "      <td>NaN</td>\n",
       "      <td>NaN</td>\n",
       "      <td>NaN</td>\n",
       "      <td>5.0</td>\n",
       "      <td>2.0</td>\n",
       "      <td>...</td>\n",
       "      <td>0.0</td>\n",
       "      <td>0.0</td>\n",
       "      <td>8.0</td>\n",
       "      <td>8.0</td>\n",
       "      <td>3.0</td>\n",
       "      <td>5.5</td>\n",
       "      <td>1.0</td>\n",
       "      <td>0.0</td>\n",
       "      <td>0.0</td>\n",
       "      <td>NaN</td>\n",
       "    </tr>\n",
       "    <tr>\n",
       "      <th>4</th>\n",
       "      <td>4/18/2022</td>\n",
       "      <td>6</td>\n",
       "      <td>77.0</td>\n",
       "      <td>51.0</td>\n",
       "      <td>6.92</td>\n",
       "      <td>NaN</td>\n",
       "      <td>NaN</td>\n",
       "      <td>NaN</td>\n",
       "      <td>4.0</td>\n",
       "      <td>1.0</td>\n",
       "      <td>...</td>\n",
       "      <td>0.0</td>\n",
       "      <td>0.0</td>\n",
       "      <td>7.0</td>\n",
       "      <td>8.0</td>\n",
       "      <td>4.0</td>\n",
       "      <td>5.2</td>\n",
       "      <td>0.0</td>\n",
       "      <td>0.0</td>\n",
       "      <td>0.0</td>\n",
       "      <td>NaN</td>\n",
       "    </tr>\n",
       "    <tr>\n",
       "      <th>5</th>\n",
       "      <td>4/19/2022</td>\n",
       "      <td>0</td>\n",
       "      <td>85.0</td>\n",
       "      <td>52.0</td>\n",
       "      <td>8.72</td>\n",
       "      <td>NaN</td>\n",
       "      <td>NaN</td>\n",
       "      <td>NaN</td>\n",
       "      <td>4.0</td>\n",
       "      <td>1.0</td>\n",
       "      <td>...</td>\n",
       "      <td>1.0</td>\n",
       "      <td>1.0</td>\n",
       "      <td>7.0</td>\n",
       "      <td>7.0</td>\n",
       "      <td>3.0</td>\n",
       "      <td>8.7</td>\n",
       "      <td>0.0</td>\n",
       "      <td>0.0</td>\n",
       "      <td>0.0</td>\n",
       "      <td>NaN</td>\n",
       "    </tr>\n",
       "    <tr>\n",
       "      <th>6</th>\n",
       "      <td>4/20/2022</td>\n",
       "      <td>1</td>\n",
       "      <td>52.0</td>\n",
       "      <td>42.0</td>\n",
       "      <td>8.53</td>\n",
       "      <td>NaN</td>\n",
       "      <td>NaN</td>\n",
       "      <td>NaN</td>\n",
       "      <td>5.0</td>\n",
       "      <td>1.0</td>\n",
       "      <td>...</td>\n",
       "      <td>0.0</td>\n",
       "      <td>1.0</td>\n",
       "      <td>6.0</td>\n",
       "      <td>8.0</td>\n",
       "      <td>4.0</td>\n",
       "      <td>14.8</td>\n",
       "      <td>0.0</td>\n",
       "      <td>0.0</td>\n",
       "      <td>0.0</td>\n",
       "      <td>NaN</td>\n",
       "    </tr>\n",
       "    <tr>\n",
       "      <th>7</th>\n",
       "      <td>4/21/2022</td>\n",
       "      <td>2</td>\n",
       "      <td>83.0</td>\n",
       "      <td>52.0</td>\n",
       "      <td>8.30</td>\n",
       "      <td>NaN</td>\n",
       "      <td>NaN</td>\n",
       "      <td>NaN</td>\n",
       "      <td>4.0</td>\n",
       "      <td>1.0</td>\n",
       "      <td>...</td>\n",
       "      <td>0.0</td>\n",
       "      <td>2.0</td>\n",
       "      <td>3.0</td>\n",
       "      <td>6.0</td>\n",
       "      <td>7.0</td>\n",
       "      <td>15.3</td>\n",
       "      <td>0.0</td>\n",
       "      <td>0.0</td>\n",
       "      <td>0.0</td>\n",
       "      <td>NaN</td>\n",
       "    </tr>\n",
       "    <tr>\n",
       "      <th>8</th>\n",
       "      <td>4/22/2022</td>\n",
       "      <td>3</td>\n",
       "      <td>60.0</td>\n",
       "      <td>46.0</td>\n",
       "      <td>9.08</td>\n",
       "      <td>179.5</td>\n",
       "      <td>NaN</td>\n",
       "      <td>NaN</td>\n",
       "      <td>6.0</td>\n",
       "      <td>1.0</td>\n",
       "      <td>...</td>\n",
       "      <td>1.0</td>\n",
       "      <td>1.0</td>\n",
       "      <td>9.0</td>\n",
       "      <td>7.0</td>\n",
       "      <td>3.0</td>\n",
       "      <td>9.6</td>\n",
       "      <td>0.0</td>\n",
       "      <td>0.0</td>\n",
       "      <td>0.0</td>\n",
       "      <td>NaN</td>\n",
       "    </tr>\n",
       "    <tr>\n",
       "      <th>9</th>\n",
       "      <td>4/23/2022</td>\n",
       "      <td>4</td>\n",
       "      <td>73.0</td>\n",
       "      <td>49.0</td>\n",
       "      <td>8.48</td>\n",
       "      <td>179.4</td>\n",
       "      <td>NaN</td>\n",
       "      <td>NaN</td>\n",
       "      <td>4.0</td>\n",
       "      <td>2.0</td>\n",
       "      <td>...</td>\n",
       "      <td>0.0</td>\n",
       "      <td>1.0</td>\n",
       "      <td>7.0</td>\n",
       "      <td>6.0</td>\n",
       "      <td>3.0</td>\n",
       "      <td>14.5</td>\n",
       "      <td>0.0</td>\n",
       "      <td>0.0</td>\n",
       "      <td>0.0</td>\n",
       "      <td>NaN</td>\n",
       "    </tr>\n",
       "  </tbody>\n",
       "</table>\n",
       "<p>10 rows × 29 columns</p>\n",
       "</div>"
      ],
      "text/plain": [
       "        Date  Day of Week  Whoop Recovery   HRV  Hours of Sleep  Body Weight  \\\n",
       "0  4/14/2022            2            99.0  61.0            8.95        174.5   \n",
       "1  4/15/2022            3            81.0  51.0            9.05          NaN   \n",
       "2  4/16/2022            4            82.0  51.0            8.33          NaN   \n",
       "3  4/17/2022            5            76.0  51.0            7.32          NaN   \n",
       "4  4/18/2022            6            77.0  51.0            6.92          NaN   \n",
       "5  4/19/2022            0            85.0  52.0            8.72          NaN   \n",
       "6  4/20/2022            1            52.0  42.0            8.53          NaN   \n",
       "7  4/21/2022            2            83.0  52.0            8.30          NaN   \n",
       "8  4/22/2022            3            60.0  46.0            9.08        179.5   \n",
       "9  4/23/2022            4            73.0  49.0            8.48        179.4   \n",
       "\n",
       "   Body Fat %  Body Water %  Hydration Score (urine)  Sick Feeling  ...  \\\n",
       "0         NaN           NaN                      7.0           2.0  ...   \n",
       "1         NaN           NaN                      7.0           1.0  ...   \n",
       "2         NaN           NaN                      5.0           1.0  ...   \n",
       "3         NaN           NaN                      5.0           2.0  ...   \n",
       "4         NaN           NaN                      4.0           1.0  ...   \n",
       "5         NaN           NaN                      4.0           1.0  ...   \n",
       "6         NaN           NaN                      5.0           1.0  ...   \n",
       "7         NaN           NaN                      4.0           1.0  ...   \n",
       "8         NaN           NaN                      6.0           1.0  ...   \n",
       "9         NaN           NaN                      4.0           2.0  ...   \n",
       "\n",
       "   Lift?  Protein Shake?  Fun Rating  Family Love Rating  Tired Rating  \\\n",
       "0    0.0             0.0         7.0                 7.0           5.0   \n",
       "1    1.0             0.0         2.0                 6.0           8.0   \n",
       "2    0.0             0.0         4.0                 6.0           6.0   \n",
       "3    0.0             0.0         8.0                 8.0           3.0   \n",
       "4    0.0             0.0         7.0                 8.0           4.0   \n",
       "5    1.0             1.0         7.0                 7.0           3.0   \n",
       "6    0.0             1.0         6.0                 8.0           4.0   \n",
       "7    0.0             2.0         3.0                 6.0           7.0   \n",
       "8    1.0             1.0         9.0                 7.0           3.0   \n",
       "9    0.0             1.0         7.0                 6.0           3.0   \n",
       "\n",
       "   Strain  Alcohol (# of Drinks)  CBD (mg)  Melatonin  Current BA  \n",
       "0    15.7                    0.0       0.0        0.0         NaN  \n",
       "1    17.5                    0.0       0.0        0.0         NaN  \n",
       "2    13.9                    2.0       0.0        0.0         NaN  \n",
       "3     5.5                    1.0       0.0        0.0         NaN  \n",
       "4     5.2                    0.0       0.0        0.0         NaN  \n",
       "5     8.7                    0.0       0.0        0.0         NaN  \n",
       "6    14.8                    0.0       0.0        0.0         NaN  \n",
       "7    15.3                    0.0       0.0        0.0         NaN  \n",
       "8     9.6                    0.0       0.0        0.0         NaN  \n",
       "9    14.5                    0.0       0.0        0.0         NaN  \n",
       "\n",
       "[10 rows x 29 columns]"
      ]
     },
     "execution_count": 3,
     "metadata": {},
     "output_type": "execute_result"
    }
   ],
   "source": [
    "drop_headers = ['Thought of the Day', 'Game Notes']\n",
    "\n",
    "data = data.drop(drop_headers, axis=1)\n",
    "data = data.dropna(axis=0, thresh=3)\n",
    "column_headers = data.columns\n",
    "num_entries = data.shape[0]\n",
    "data.iloc[0:10,:]"
   ]
  },
  {
   "cell_type": "code",
   "execution_count": 4,
   "metadata": {},
   "outputs": [],
   "source": [
    "target_variables = ['Whoop Recovery', 'HRV', 'Body Weight', 'Current BA']\n",
    "\n",
    "morning_variables = ['Day of Week', 'Whoop Recovery', 'HRV', 'Hours of Sleep',\n",
    "                     'Body Weight', 'Body Fat %', 'Body Water %', 'Hydration Score (urine)',\n",
    "                     'Sick Feeling', 'Soreness/Fatigue Score', 'Fitness Rating',\n",
    "                     'Positivity Score (1-10)', 'Confidence Score', 'Date']\n",
    "night_variables = ['Caffeine in mg',\n",
    "                   'Water Before Coffee?', 'Breakfast Before Coffee?',\n",
    "                   'Devo Quality (1-10)', 'Game?', 'Lift?', 'Protein Shake?', 'Fun Rating',\n",
    "                   'Family Love Rating', 'Tired Rating', 'Strain', 'Alcohol (# of Drinks)',\n",
    "                   'CBD (mg)', 'Melatonin', 'Current BA']"
   ]
  },
  {
   "cell_type": "code",
   "execution_count": 5,
   "metadata": {},
   "outputs": [
    {
     "name": "stdout",
     "output_type": "stream",
     "text": [
      "Enter desired target value according to the keys below:\n",
      "{1: 'Whoop Recovery', 2: 'HRV', 3: 'Body Weight', 4: 'Current BA'}\n",
      "\n",
      "Selected Target Variable: Whoop Recovery\n"
     ]
    }
   ],
   "source": [
    "print('Enter desired target value according to the keys below:')\n",
    "dict_targets = { i : target_variables[i - 1] for i in range(1, len(target_variables) + 1) }\n",
    "print(dict_targets)\n",
    "desired_target = input()\n",
    "if desired_target == '':\n",
    "    desired_target = 1\n",
    "target = dict_targets[int(desired_target)]\n",
    "print(f'Selected Target Variable: {target}')"
   ]
  },
  {
   "cell_type": "code",
   "execution_count": 6,
   "metadata": {},
   "outputs": [],
   "source": [
    "def update_df(df, morning, night, target):\n",
    "    if target in night:\n",
    "        night.remove(target)\n",
    "    df['Date'] = pd.to_datetime(df['Date'])\n",
    "    curr_day = df.drop(night, axis=1)\n",
    "    prev_day = df.drop(morning, axis=1)\n",
    "    prev_day = prev_day.shift(periods=1)\n",
    "    return pd.concat([curr_day, prev_day], axis=1, join='inner')\n",
    "    \n",
    "adjusted_df = update_df(data, morning=morning_variables, night=night_variables, target=target)"
   ]
  },
  {
   "cell_type": "code",
   "execution_count": 7,
   "metadata": {},
   "outputs": [
    {
     "data": {
      "text/html": [
       "<div>\n",
       "<style scoped>\n",
       "    .dataframe tbody tr th:only-of-type {\n",
       "        vertical-align: middle;\n",
       "    }\n",
       "\n",
       "    .dataframe tbody tr th {\n",
       "        vertical-align: top;\n",
       "    }\n",
       "\n",
       "    .dataframe thead th {\n",
       "        text-align: right;\n",
       "    }\n",
       "</style>\n",
       "<table border=\"1\" class=\"dataframe\">\n",
       "  <thead>\n",
       "    <tr style=\"text-align: right;\">\n",
       "      <th></th>\n",
       "      <th>Day of Week</th>\n",
       "      <th>HRV</th>\n",
       "      <th>Hours of Sleep</th>\n",
       "      <th>Hydration Score (urine)</th>\n",
       "      <th>Sick Feeling</th>\n",
       "      <th>Soreness/Fatigue Score</th>\n",
       "      <th>Fitness Rating</th>\n",
       "      <th>Positivity Score (1-10)</th>\n",
       "      <th>Confidence Score</th>\n",
       "      <th>Caffeine in mg</th>\n",
       "      <th>...</th>\n",
       "      <th>Game?</th>\n",
       "      <th>Lift?</th>\n",
       "      <th>Protein Shake?</th>\n",
       "      <th>Fun Rating</th>\n",
       "      <th>Family Love Rating</th>\n",
       "      <th>Tired Rating</th>\n",
       "      <th>Strain</th>\n",
       "      <th>Alcohol (# of Drinks)</th>\n",
       "      <th>CBD (mg)</th>\n",
       "      <th>Melatonin</th>\n",
       "    </tr>\n",
       "  </thead>\n",
       "  <tbody>\n",
       "    <tr>\n",
       "      <th>1</th>\n",
       "      <td>3</td>\n",
       "      <td>51.0</td>\n",
       "      <td>9.05</td>\n",
       "      <td>7.0</td>\n",
       "      <td>1.0</td>\n",
       "      <td>3.0</td>\n",
       "      <td>6.0</td>\n",
       "      <td>8.0</td>\n",
       "      <td>8.0</td>\n",
       "      <td>300.0</td>\n",
       "      <td>...</td>\n",
       "      <td>1.0</td>\n",
       "      <td>0.0</td>\n",
       "      <td>0.0</td>\n",
       "      <td>7.0</td>\n",
       "      <td>7.0</td>\n",
       "      <td>5.0</td>\n",
       "      <td>15.7</td>\n",
       "      <td>0.0</td>\n",
       "      <td>0.0</td>\n",
       "      <td>0.0</td>\n",
       "    </tr>\n",
       "    <tr>\n",
       "      <th>2</th>\n",
       "      <td>4</td>\n",
       "      <td>51.0</td>\n",
       "      <td>8.33</td>\n",
       "      <td>5.0</td>\n",
       "      <td>1.0</td>\n",
       "      <td>3.0</td>\n",
       "      <td>5.0</td>\n",
       "      <td>2.0</td>\n",
       "      <td>3.0</td>\n",
       "      <td>250.0</td>\n",
       "      <td>...</td>\n",
       "      <td>1.0</td>\n",
       "      <td>1.0</td>\n",
       "      <td>0.0</td>\n",
       "      <td>2.0</td>\n",
       "      <td>6.0</td>\n",
       "      <td>8.0</td>\n",
       "      <td>17.5</td>\n",
       "      <td>0.0</td>\n",
       "      <td>0.0</td>\n",
       "      <td>0.0</td>\n",
       "    </tr>\n",
       "    <tr>\n",
       "      <th>3</th>\n",
       "      <td>5</td>\n",
       "      <td>51.0</td>\n",
       "      <td>7.32</td>\n",
       "      <td>5.0</td>\n",
       "      <td>2.0</td>\n",
       "      <td>2.0</td>\n",
       "      <td>4.0</td>\n",
       "      <td>5.0</td>\n",
       "      <td>8.0</td>\n",
       "      <td>250.0</td>\n",
       "      <td>...</td>\n",
       "      <td>1.0</td>\n",
       "      <td>0.0</td>\n",
       "      <td>0.0</td>\n",
       "      <td>4.0</td>\n",
       "      <td>6.0</td>\n",
       "      <td>6.0</td>\n",
       "      <td>13.9</td>\n",
       "      <td>2.0</td>\n",
       "      <td>0.0</td>\n",
       "      <td>0.0</td>\n",
       "    </tr>\n",
       "    <tr>\n",
       "      <th>4</th>\n",
       "      <td>6</td>\n",
       "      <td>51.0</td>\n",
       "      <td>6.92</td>\n",
       "      <td>4.0</td>\n",
       "      <td>1.0</td>\n",
       "      <td>1.0</td>\n",
       "      <td>5.0</td>\n",
       "      <td>7.0</td>\n",
       "      <td>7.0</td>\n",
       "      <td>250.0</td>\n",
       "      <td>...</td>\n",
       "      <td>0.0</td>\n",
       "      <td>0.0</td>\n",
       "      <td>0.0</td>\n",
       "      <td>8.0</td>\n",
       "      <td>8.0</td>\n",
       "      <td>3.0</td>\n",
       "      <td>5.5</td>\n",
       "      <td>1.0</td>\n",
       "      <td>0.0</td>\n",
       "      <td>0.0</td>\n",
       "    </tr>\n",
       "    <tr>\n",
       "      <th>5</th>\n",
       "      <td>0</td>\n",
       "      <td>52.0</td>\n",
       "      <td>8.72</td>\n",
       "      <td>4.0</td>\n",
       "      <td>1.0</td>\n",
       "      <td>2.0</td>\n",
       "      <td>4.0</td>\n",
       "      <td>7.0</td>\n",
       "      <td>6.0</td>\n",
       "      <td>250.0</td>\n",
       "      <td>...</td>\n",
       "      <td>0.0</td>\n",
       "      <td>0.0</td>\n",
       "      <td>0.0</td>\n",
       "      <td>7.0</td>\n",
       "      <td>8.0</td>\n",
       "      <td>4.0</td>\n",
       "      <td>5.2</td>\n",
       "      <td>0.0</td>\n",
       "      <td>0.0</td>\n",
       "      <td>0.0</td>\n",
       "    </tr>\n",
       "    <tr>\n",
       "      <th>6</th>\n",
       "      <td>1</td>\n",
       "      <td>42.0</td>\n",
       "      <td>8.53</td>\n",
       "      <td>5.0</td>\n",
       "      <td>1.0</td>\n",
       "      <td>3.0</td>\n",
       "      <td>4.0</td>\n",
       "      <td>6.0</td>\n",
       "      <td>7.0</td>\n",
       "      <td>200.0</td>\n",
       "      <td>...</td>\n",
       "      <td>0.0</td>\n",
       "      <td>1.0</td>\n",
       "      <td>1.0</td>\n",
       "      <td>7.0</td>\n",
       "      <td>7.0</td>\n",
       "      <td>3.0</td>\n",
       "      <td>8.7</td>\n",
       "      <td>0.0</td>\n",
       "      <td>0.0</td>\n",
       "      <td>0.0</td>\n",
       "    </tr>\n",
       "    <tr>\n",
       "      <th>7</th>\n",
       "      <td>2</td>\n",
       "      <td>52.0</td>\n",
       "      <td>8.30</td>\n",
       "      <td>4.0</td>\n",
       "      <td>1.0</td>\n",
       "      <td>3.0</td>\n",
       "      <td>5.0</td>\n",
       "      <td>7.0</td>\n",
       "      <td>6.0</td>\n",
       "      <td>100.0</td>\n",
       "      <td>...</td>\n",
       "      <td>1.0</td>\n",
       "      <td>0.0</td>\n",
       "      <td>1.0</td>\n",
       "      <td>6.0</td>\n",
       "      <td>8.0</td>\n",
       "      <td>4.0</td>\n",
       "      <td>14.8</td>\n",
       "      <td>0.0</td>\n",
       "      <td>0.0</td>\n",
       "      <td>0.0</td>\n",
       "    </tr>\n",
       "    <tr>\n",
       "      <th>8</th>\n",
       "      <td>3</td>\n",
       "      <td>46.0</td>\n",
       "      <td>9.08</td>\n",
       "      <td>6.0</td>\n",
       "      <td>1.0</td>\n",
       "      <td>4.0</td>\n",
       "      <td>6.0</td>\n",
       "      <td>7.0</td>\n",
       "      <td>7.0</td>\n",
       "      <td>250.0</td>\n",
       "      <td>...</td>\n",
       "      <td>1.0</td>\n",
       "      <td>0.0</td>\n",
       "      <td>2.0</td>\n",
       "      <td>3.0</td>\n",
       "      <td>6.0</td>\n",
       "      <td>7.0</td>\n",
       "      <td>15.3</td>\n",
       "      <td>0.0</td>\n",
       "      <td>0.0</td>\n",
       "      <td>0.0</td>\n",
       "    </tr>\n",
       "    <tr>\n",
       "      <th>9</th>\n",
       "      <td>4</td>\n",
       "      <td>49.0</td>\n",
       "      <td>8.48</td>\n",
       "      <td>4.0</td>\n",
       "      <td>2.0</td>\n",
       "      <td>4.0</td>\n",
       "      <td>6.0</td>\n",
       "      <td>6.0</td>\n",
       "      <td>6.0</td>\n",
       "      <td>250.0</td>\n",
       "      <td>...</td>\n",
       "      <td>0.0</td>\n",
       "      <td>1.0</td>\n",
       "      <td>1.0</td>\n",
       "      <td>9.0</td>\n",
       "      <td>7.0</td>\n",
       "      <td>3.0</td>\n",
       "      <td>9.6</td>\n",
       "      <td>0.0</td>\n",
       "      <td>0.0</td>\n",
       "      <td>0.0</td>\n",
       "    </tr>\n",
       "    <tr>\n",
       "      <th>12</th>\n",
       "      <td>0</td>\n",
       "      <td>43.0</td>\n",
       "      <td>7.73</td>\n",
       "      <td>3.0</td>\n",
       "      <td>1.0</td>\n",
       "      <td>2.0</td>\n",
       "      <td>5.0</td>\n",
       "      <td>7.0</td>\n",
       "      <td>7.0</td>\n",
       "      <td>200.0</td>\n",
       "      <td>...</td>\n",
       "      <td>0.0</td>\n",
       "      <td>0.0</td>\n",
       "      <td>0.0</td>\n",
       "      <td>9.0</td>\n",
       "      <td>8.0</td>\n",
       "      <td>5.0</td>\n",
       "      <td>9.9</td>\n",
       "      <td>2.0</td>\n",
       "      <td>0.0</td>\n",
       "      <td>0.0</td>\n",
       "    </tr>\n",
       "  </tbody>\n",
       "</table>\n",
       "<p>10 rows × 23 columns</p>\n",
       "</div>"
      ],
      "text/plain": [
       "    Day of Week   HRV  Hours of Sleep  Hydration Score (urine)  Sick Feeling  \\\n",
       "1             3  51.0            9.05                      7.0           1.0   \n",
       "2             4  51.0            8.33                      5.0           1.0   \n",
       "3             5  51.0            7.32                      5.0           2.0   \n",
       "4             6  51.0            6.92                      4.0           1.0   \n",
       "5             0  52.0            8.72                      4.0           1.0   \n",
       "6             1  42.0            8.53                      5.0           1.0   \n",
       "7             2  52.0            8.30                      4.0           1.0   \n",
       "8             3  46.0            9.08                      6.0           1.0   \n",
       "9             4  49.0            8.48                      4.0           2.0   \n",
       "12            0  43.0            7.73                      3.0           1.0   \n",
       "\n",
       "    Soreness/Fatigue Score  Fitness Rating  Positivity Score (1-10)  \\\n",
       "1                      3.0             6.0                      8.0   \n",
       "2                      3.0             5.0                      2.0   \n",
       "3                      2.0             4.0                      5.0   \n",
       "4                      1.0             5.0                      7.0   \n",
       "5                      2.0             4.0                      7.0   \n",
       "6                      3.0             4.0                      6.0   \n",
       "7                      3.0             5.0                      7.0   \n",
       "8                      4.0             6.0                      7.0   \n",
       "9                      4.0             6.0                      6.0   \n",
       "12                     2.0             5.0                      7.0   \n",
       "\n",
       "    Confidence Score  Caffeine in mg  ...  Game?  Lift?  Protein Shake?  \\\n",
       "1                8.0           300.0  ...    1.0    0.0             0.0   \n",
       "2                3.0           250.0  ...    1.0    1.0             0.0   \n",
       "3                8.0           250.0  ...    1.0    0.0             0.0   \n",
       "4                7.0           250.0  ...    0.0    0.0             0.0   \n",
       "5                6.0           250.0  ...    0.0    0.0             0.0   \n",
       "6                7.0           200.0  ...    0.0    1.0             1.0   \n",
       "7                6.0           100.0  ...    1.0    0.0             1.0   \n",
       "8                7.0           250.0  ...    1.0    0.0             2.0   \n",
       "9                6.0           250.0  ...    0.0    1.0             1.0   \n",
       "12               7.0           200.0  ...    0.0    0.0             0.0   \n",
       "\n",
       "    Fun Rating  Family Love Rating  Tired Rating  Strain  \\\n",
       "1          7.0                 7.0           5.0    15.7   \n",
       "2          2.0                 6.0           8.0    17.5   \n",
       "3          4.0                 6.0           6.0    13.9   \n",
       "4          8.0                 8.0           3.0     5.5   \n",
       "5          7.0                 8.0           4.0     5.2   \n",
       "6          7.0                 7.0           3.0     8.7   \n",
       "7          6.0                 8.0           4.0    14.8   \n",
       "8          3.0                 6.0           7.0    15.3   \n",
       "9          9.0                 7.0           3.0     9.6   \n",
       "12         9.0                 8.0           5.0     9.9   \n",
       "\n",
       "    Alcohol (# of Drinks)  CBD (mg)  Melatonin  \n",
       "1                     0.0       0.0        0.0  \n",
       "2                     0.0       0.0        0.0  \n",
       "3                     2.0       0.0        0.0  \n",
       "4                     1.0       0.0        0.0  \n",
       "5                     0.0       0.0        0.0  \n",
       "6                     0.0       0.0        0.0  \n",
       "7                     0.0       0.0        0.0  \n",
       "8                     0.0       0.0        0.0  \n",
       "9                     0.0       0.0        0.0  \n",
       "12                    2.0       0.0        0.0  \n",
       "\n",
       "[10 rows x 23 columns]"
      ]
     },
     "execution_count": 7,
     "metadata": {},
     "output_type": "execute_result"
    }
   ],
   "source": [
    "def drop_nans(df, threshold=0.5):\n",
    "    df_length = df.shape[0]\n",
    "    df = df.dropna(thresh=threshold * df_length, axis=1).dropna(how='any', axis=0)\n",
    "    return df\n",
    "    \n",
    "adjusted_df = drop_nans(adjusted_df)\n",
    "X = adjusted_df.drop([target, 'Date'], axis=1)\n",
    "y = adjusted_df[target]\n",
    "\n",
    "X_train, X_test, y_train, y_test = train_test_split(X, y, random_state=42)\n",
    "X.iloc[0:10,:]"
   ]
  },
  {
   "cell_type": "code",
   "execution_count": 8,
   "metadata": {},
   "outputs": [
    {
     "data": {
      "text/plain": [
       "1     81.0\n",
       "2     82.0\n",
       "3     76.0\n",
       "4     77.0\n",
       "5     85.0\n",
       "6     52.0\n",
       "7     83.0\n",
       "8     60.0\n",
       "9     73.0\n",
       "12    51.0\n",
       "Name: Whoop Recovery, dtype: float64"
      ]
     },
     "execution_count": 8,
     "metadata": {},
     "output_type": "execute_result"
    }
   ],
   "source": [
    "y[0:10]"
   ]
  },
  {
   "cell_type": "code",
   "execution_count": 9,
   "metadata": {},
   "outputs": [
    {
     "name": "stdout",
     "output_type": "stream",
     "text": [
      "Total Training Size: 11\n",
      "Total Testing Size: 4\n",
      "Total Observations: 15\n"
     ]
    }
   ],
   "source": [
    "print(f'Total Training Size: {X_train.shape[0]}')\n",
    "print(f'Total Testing Size: {X_test.shape[0]}')\n",
    "print(f'Total Observations: {y.shape[0]}')"
   ]
  },
  {
   "cell_type": "markdown",
   "metadata": {},
   "source": [
    "# Random Forest Regression"
   ]
  },
  {
   "cell_type": "markdown",
   "metadata": {},
   "source": [
    "### Reasoning and Methodology "
   ]
  },
  {
   "cell_type": "markdown",
   "metadata": {},
   "source": [
    "Random Forest Regression is a robust machine learning algorithm which uses random sampling and bootstrapping from decision trees to make continuous predictions on target variables. I chose this as the first model to be implemented because of its capability to accomodate both continuous and discrete variable. Since the decision trees themselves also support this input flexibility, Random Forest Regression is an excellent candidate for this data."
   ]
  },
  {
   "cell_type": "markdown",
   "metadata": {},
   "source": [
    "### Implementation "
   ]
  },
  {
   "cell_type": "code",
   "execution_count": 10,
   "metadata": {},
   "outputs": [],
   "source": [
    "from sklearn.ensemble import RandomForestRegressor\n",
    "from sklearn.metrics import mean_squared_error"
   ]
  },
  {
   "cell_type": "code",
   "execution_count": 11,
   "metadata": {},
   "outputs": [
    {
     "name": "stdout",
     "output_type": "stream",
     "text": [
      "R-squared: 0.87\n"
     ]
    }
   ],
   "source": [
    "rfr = RandomForestRegressor()\n",
    "\n",
    "rfr.fit(X_train, y_train)\n",
    "\n",
    "score = rfr.score(X_train, y_train)\n",
    "print(\"R-squared:\", round(score, 2)) "
   ]
  },
  {
   "cell_type": "code",
   "execution_count": 12,
   "metadata": {},
   "outputs": [
    {
     "name": "stdout",
     "output_type": "stream",
     "text": [
      "MSE:  138.98\n",
      "RMSE:  11.79\n"
     ]
    }
   ],
   "source": [
    "y_pred = rfr.predict(X_test)\n",
    "\n",
    "mse = mean_squared_error(y_test, y_pred)\n",
    "print(\"MSE: \", round(mse, 2))\n",
    "print(\"RMSE: \", round(mse**(1/2.0), 2))"
   ]
  },
  {
   "cell_type": "code",
   "execution_count": 13,
   "metadata": {},
   "outputs": [],
   "source": [
    "importances = rfr.feature_importances_\n",
    "x_column_headers = X_test.columns\n",
    "std = np.std([tree.feature_importances_ for tree in rfr.estimators_], axis=0)\n",
    "normalized_importances = (importances - importances.min()) / (importances.max() - importances.min())"
   ]
  },
  {
   "cell_type": "code",
   "execution_count": 14,
   "metadata": {},
   "outputs": [
    {
     "data": {
      "image/png": "[encoded data removed]",
      "text/plain": [
       "<Figure size 432x288 with 1 Axes>"
      ]
     },
     "metadata": {
      "needs_background": "light"
     },
     "output_type": "display_data"
    }
   ],
   "source": [
    "x_ax = range(len(y_test))\n",
    "plt.plot(x_ax, y_test, linewidth=1, label=f\"Actual {y.name}\")\n",
    "plt.plot(x_ax, y_pred, linewidth=1.1, label=f\"Predicted {y.name}\")\n",
    "plt.title(f\"Predicted {y.name} vs. Actual {y.name}\")\n",
    "plt.xlabel('Observation Number')\n",
    "units = {'Whoop Recovery': '%', 'HRV': 'bpm', 'Current BA': '%', 'Body Weight': 'lbs'}\n",
    "unit = units[target]\n",
    "plt.ylabel(f'{y.name} ({unit})')\n",
    "plt.legend(loc='best',fancybox=True, shadow=True)\n",
    "plt.grid(True)\n",
    "plt.show() "
   ]
  },
  {
   "cell_type": "code",
   "execution_count": 15,
   "metadata": {},
   "outputs": [
    {
     "data": {
      "image/png": "[encoded data removed]",
      "text/plain": [
       "<Figure size 432x288 with 1 Axes>"
      ]
     },
     "metadata": {
      "needs_background": "light"
     },
     "output_type": "display_data"
    }
   ],
   "source": [
    "forest_importances = pd.Series(normalized_importances, index=x_column_headers)\n",
    "\n",
    "fig, ax = plt.subplots()\n",
    "forest_importances.plot.bar(yerr=std, ax=ax)\n",
    "ax.set_title(f\"Feature Importances for {target}\")\n",
    "ax.set_ylabel(\"Feature Importance\")\n",
    "fig.tight_layout()"
   ]
  },
  {
   "cell_type": "markdown",
   "metadata": {},
   "source": [
    "### Analysis and Impact "
   ]
  },
  {
   "cell_type": "markdown",
   "metadata": {},
   "source": [
    "# Linear Regression"
   ]
  },
  {
   "cell_type": "markdown",
   "metadata": {},
   "source": [
    "### Reasoning and Methodology "
   ]
  },
  {
   "cell_type": "markdown",
   "metadata": {},
   "source": [
    "Though Random Forest Regression seems to be a reasonable and scalable fit for the data, it is worth implementing Linear Regression because of it's simplicity. While it is certainly simple to implement, it is also more easily understandable to peopel with less experience with data and statistics. Linear regression also allows flexibility in inputting both continous and discrete variables by normalizing discrete variables to become continuous. This model also outputs clear regression coefficients, which are extremely readable and applicable to this project."
   ]
  },
  {
   "cell_type": "markdown",
   "metadata": {},
   "source": [
    "### Implementation "
   ]
  },
  {
   "cell_type": "code",
   "execution_count": 16,
   "metadata": {},
   "outputs": [],
   "source": [
    "from sklearn.linear_model import LinearRegression\n",
    "from sklearn.metrics import r2_score"
   ]
  },
  {
   "cell_type": "code",
   "execution_count": 17,
   "metadata": {},
   "outputs": [
    {
     "name": "stdout",
     "output_type": "stream",
     "text": [
      "R-squared: 0.65\n"
     ]
    }
   ],
   "source": [
    "regr = LinearRegression()\n",
    "regr.fit(X_train, y_train)\n",
    "\n",
    "y_pred = regr.predict(X_test)\n",
    "r2_score2 = r2_score(y_pred, y_test)\n",
    "print(f'R-squared: {round(r2_score2, 2)}')"
   ]
  },
  {
   "cell_type": "code",
   "execution_count": 18,
   "metadata": {},
   "outputs": [],
   "source": [
    "feature_titles = X_train.columns\n",
    "reg_coef = regr.coef_"
   ]
  },
  {
   "cell_type": "code",
   "execution_count": 19,
   "metadata": {},
   "outputs": [
    {
     "name": "stdout",
     "output_type": "stream",
     "text": [
      "Day of Week: -0.85\n",
      "HRV: 2.66\n",
      "Hours of Sleep: 0.7\n",
      "Hydration Score (urine): -1.51\n",
      "Sick Feeling: -0.17\n",
      "Soreness/Fatigue Score: -1.86\n",
      "Fitness Rating: 0.96\n",
      "Positivity Score (1-10): 0.03\n",
      "Confidence Score: -1.29\n",
      "Caffeine in mg: -0.03\n",
      "Water Before Coffee?: -0.64\n",
      "Breakfast Before Coffee?: -0.64\n",
      "Devo Quality (1-10): -0.7\n",
      "Game?: -0.16\n",
      "Lift?: 0.6\n",
      "Protein Shake?: -0.92\n",
      "Fun Rating: 0.19\n",
      "Family Love Rating: -0.02\n",
      "Tired Rating: 1.24\n",
      "Strain: -0.04\n",
      "Alcohol (# of Drinks): -0.22\n",
      "CBD (mg): 0.0\n",
      "Melatonin: 0.0\n"
     ]
    }
   ],
   "source": [
    "pos_features_with_coef = {}\n",
    "neg_features_with_coef = {}\n",
    "for i in range(len(feature_titles)):\n",
    "    if reg_coef[i] > 0:\n",
    "        pos_features_with_coef[feature_titles[i]] = round(reg_coef[i], 2)\n",
    "    elif reg_coef[i] < 0:\n",
    "        neg_features_with_coef[feature_titles[i]] = round(-1*reg_coef[i], 2)\n",
    "    print(f'{feature_titles[i]}: {round(reg_coef[i], 2)}')"
   ]
  },
  {
   "cell_type": "code",
   "execution_count": 20,
   "metadata": {},
   "outputs": [
    {
     "data": {
      "image/png": "[encoded data removed]",
      "text/plain": [
       "<Figure size 432x288 with 1 Axes>"
      ]
     },
     "metadata": {
      "needs_background": "light"
     },
     "output_type": "display_data"
    }
   ],
   "source": [
    "pos_imp = pd.Series(pos_features_with_coef.values(), index=pos_features_with_coef.keys())\n",
    "\n",
    "fig, ax = plt.subplots()\n",
    "pos_imp.plot.bar(ax=ax)\n",
    "ax.set_title(f\"Positive Feature Importances for {target}\")\n",
    "ax.set_ylabel(\"Feature Importance\")\n",
    "fig.tight_layout()"
   ]
  },
  {
   "cell_type": "code",
   "execution_count": 21,
   "metadata": {},
   "outputs": [
    {
     "data": {
      "image/png": "[encoded data removed]",
      "text/plain": [
       "<Figure size 432x288 with 1 Axes>"
      ]
     },
     "metadata": {
      "needs_background": "light"
     },
     "output_type": "display_data"
    }
   ],
   "source": [
    "neg_imp = pd.Series(neg_features_with_coef.values(), index=neg_features_with_coef.keys())\n",
    "\n",
    "fig, ax = plt.subplots()\n",
    "neg_imp.plot.bar(ax=ax)\n",
    "ax.set_title(f\"Negative Feature Importances for {target}\")\n",
    "ax.set_ylabel(\"Feature Importance\")\n",
    "fig.tight_layout()"
   ]
  },
  {
   "cell_type": "markdown",
   "metadata": {},
   "source": [
    "### Analysis and Impact"
   ]
  },
  {
   "cell_type": "markdown",
   "metadata": {},
   "source": [
    "# General Trends"
   ]
  },
  {
   "cell_type": "markdown",
   "metadata": {},
   "source": [
    "### Whoop Recovery vs. Date"
   ]
  },
  {
   "cell_type": "code",
   "execution_count": 22,
   "metadata": {},
   "outputs": [
    {
     "data": {
      "image/png": "[encoded data removed]",
      "text/plain": [
       "<Figure size 432x288 with 1 Axes>"
      ]
     },
     "metadata": {
      "needs_background": "light"
     },
     "output_type": "display_data"
    }
   ],
   "source": [
    "x_ax = data['Date']\n",
    "y_ax = data['Whoop Recovery']\n",
    "plt.plot(x_ax, y_ax, linewidth=1)\n",
    "plt.title(f\"Whoop Recovery Over Time\")\n",
    "plt.xlabel('Date')\n",
    "unit = '%'\n",
    "plt.ylabel(f'Whoop Recovery ({unit})')\n",
    "plt.grid(True)\n",
    "plt.xticks(rotation=90)\n",
    "plt.show() "
   ]
  },
  {
   "cell_type": "code",
   "execution_count": null,
   "metadata": {},
   "outputs": [],
   "source": []
  }
 ],
 "metadata": {
  "kernelspec": {
   "display_name": "Python 3",
   "language": "python",
   "name": "python3"
  },
  "language_info": {
   "codemirror_mode": {
    "name": "ipython",
    "version": 3
   },
   "file_extension": ".py",
   "mimetype": "text/x-python",
   "name": "python",
   "nbconvert_exporter": "python",
   "pygments_lexer": "ipython3",
   "version": "3.8.5"
  }
 },
 "nbformat": 4,
 "nbformat_minor": 4
}

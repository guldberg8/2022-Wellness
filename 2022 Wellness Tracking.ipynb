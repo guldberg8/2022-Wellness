{
 "cells": [
  {
   "cell_type": "markdown",
   "metadata": {},
   "source": [
    "# 2022 Wellness Tracking"
   ]
  },
  {
   "cell_type": "markdown",
   "metadata": {},
   "source": [
    "## Objectives "
   ]
  },
  {
   "cell_type": "markdown",
   "metadata": {},
   "source": [
    "The objective of this project is to record and analyze the relationships between input variables and target variables throughout the 2022 Midland Rockhound season in the Texas League of AA baseball to create actionable ideas on how to increase performance. This project also strives to incorporate mental variables as well as physical ones, in the hopes of observing the impacts of mental health and training in sport as well as physical."
   ]
  },
  {
   "cell_type": "markdown",
   "metadata": {},
   "source": [
    "## Methods "
   ]
  },
  {
   "cell_type": "markdown",
   "metadata": {},
   "source": [
    "This project will involve various data cleaning and manipulation methods, which will be more specifically explained upon implementation. However, the focus of this project is on machine learning implementations, and analyzing feature impact on target variables."
   ]
  },
  {
   "cell_type": "markdown",
   "metadata": {},
   "source": [
    "## Imports and Data Cleaning "
   ]
  },
  {
   "cell_type": "code",
   "execution_count": 48,
   "metadata": {},
   "outputs": [],
   "source": [
    "import pandas as pd\n",
    "import numpy as np\n",
    "import matplotlib.pyplot as plt\n",
    "from sklearn.model_selection import train_test_split"
   ]
  },
  {
   "cell_type": "code",
   "execution_count": 49,
   "metadata": {},
   "outputs": [],
   "source": [
    "# Importing CSV data\n",
    "\n",
    "# filename = 'Data/michael_wellness_data.csv'\n",
    "filename = 'Data/test.csv'\n",
    "def read_csv(filename):\n",
    "    df = pd.read_csv(filename)\n",
    "    return df\n",
    "\n",
    "data = read_csv(filename)\n",
    "column_headers = data.columns"
   ]
  },
  {
   "cell_type": "code",
   "execution_count": 50,
   "metadata": {},
   "outputs": [
    {
     "data": {
      "text/html": [
       "<div>\n",
       "<style scoped>\n",
       "    .dataframe tbody tr th:only-of-type {\n",
       "        vertical-align: middle;\n",
       "    }\n",
       "\n",
       "    .dataframe tbody tr th {\n",
       "        vertical-align: top;\n",
       "    }\n",
       "\n",
       "    .dataframe thead th {\n",
       "        text-align: right;\n",
       "    }\n",
       "</style>\n",
       "<table border=\"1\" class=\"dataframe\">\n",
       "  <thead>\n",
       "    <tr style=\"text-align: right;\">\n",
       "      <th></th>\n",
       "      <th>Date</th>\n",
       "      <th>Day of Week</th>\n",
       "      <th>Whoop Recovery</th>\n",
       "      <th>HRV</th>\n",
       "      <th>Hours of Sleep</th>\n",
       "      <th>Body Weight</th>\n",
       "      <th>Body Fat %</th>\n",
       "      <th>Body Water %</th>\n",
       "      <th>Hydration Score (urine)</th>\n",
       "      <th>Sick Feeling</th>\n",
       "      <th>...</th>\n",
       "      <th>Lift?</th>\n",
       "      <th>Protein Shake?</th>\n",
       "      <th>Fun Rating</th>\n",
       "      <th>Family Love Rating</th>\n",
       "      <th>Tired Rating</th>\n",
       "      <th>Strain</th>\n",
       "      <th>Alcohol (# of Drinks)</th>\n",
       "      <th>CBD (mg)</th>\n",
       "      <th>Melatonin</th>\n",
       "      <th>Current BA</th>\n",
       "    </tr>\n",
       "  </thead>\n",
       "  <tbody>\n",
       "    <tr>\n",
       "      <th>0</th>\n",
       "      <td>4/14/2022</td>\n",
       "      <td>4</td>\n",
       "      <td>99.0</td>\n",
       "      <td>61.0</td>\n",
       "      <td>8.950</td>\n",
       "      <td>174.5</td>\n",
       "      <td>NaN</td>\n",
       "      <td>NaN</td>\n",
       "      <td>7.0</td>\n",
       "      <td>2.0</td>\n",
       "      <td>...</td>\n",
       "      <td>0.0</td>\n",
       "      <td>0.0</td>\n",
       "      <td>7.0</td>\n",
       "      <td>7.0</td>\n",
       "      <td>5.0</td>\n",
       "      <td>15.7</td>\n",
       "      <td>0.0</td>\n",
       "      <td>0.0</td>\n",
       "      <td>0.0</td>\n",
       "      <td>NaN</td>\n",
       "    </tr>\n",
       "    <tr>\n",
       "      <th>1</th>\n",
       "      <td>4/15/2022</td>\n",
       "      <td>5</td>\n",
       "      <td>81.0</td>\n",
       "      <td>51.0</td>\n",
       "      <td>9.050</td>\n",
       "      <td>175.8</td>\n",
       "      <td>NaN</td>\n",
       "      <td>NaN</td>\n",
       "      <td>7.0</td>\n",
       "      <td>1.0</td>\n",
       "      <td>...</td>\n",
       "      <td>1.0</td>\n",
       "      <td>0.0</td>\n",
       "      <td>2.0</td>\n",
       "      <td>6.0</td>\n",
       "      <td>8.0</td>\n",
       "      <td>17.5</td>\n",
       "      <td>0.0</td>\n",
       "      <td>0.0</td>\n",
       "      <td>0.0</td>\n",
       "      <td>NaN</td>\n",
       "    </tr>\n",
       "    <tr>\n",
       "      <th>2</th>\n",
       "      <td>4/16/2022</td>\n",
       "      <td>6</td>\n",
       "      <td>82.0</td>\n",
       "      <td>51.0</td>\n",
       "      <td>8.330</td>\n",
       "      <td>177.0</td>\n",
       "      <td>NaN</td>\n",
       "      <td>NaN</td>\n",
       "      <td>5.0</td>\n",
       "      <td>1.0</td>\n",
       "      <td>...</td>\n",
       "      <td>0.0</td>\n",
       "      <td>0.0</td>\n",
       "      <td>4.0</td>\n",
       "      <td>6.0</td>\n",
       "      <td>6.0</td>\n",
       "      <td>13.9</td>\n",
       "      <td>2.0</td>\n",
       "      <td>0.0</td>\n",
       "      <td>0.0</td>\n",
       "      <td>NaN</td>\n",
       "    </tr>\n",
       "    <tr>\n",
       "      <th>3</th>\n",
       "      <td>4/17/2022</td>\n",
       "      <td>0</td>\n",
       "      <td>76.0</td>\n",
       "      <td>51.0</td>\n",
       "      <td>7.320</td>\n",
       "      <td>174.8</td>\n",
       "      <td>NaN</td>\n",
       "      <td>NaN</td>\n",
       "      <td>5.0</td>\n",
       "      <td>2.0</td>\n",
       "      <td>...</td>\n",
       "      <td>0.0</td>\n",
       "      <td>0.0</td>\n",
       "      <td>8.0</td>\n",
       "      <td>8.0</td>\n",
       "      <td>3.0</td>\n",
       "      <td>5.5</td>\n",
       "      <td>1.0</td>\n",
       "      <td>0.0</td>\n",
       "      <td>0.0</td>\n",
       "      <td>NaN</td>\n",
       "    </tr>\n",
       "    <tr>\n",
       "      <th>4</th>\n",
       "      <td>4/18/2022</td>\n",
       "      <td>1</td>\n",
       "      <td>77.0</td>\n",
       "      <td>51.0</td>\n",
       "      <td>6.920</td>\n",
       "      <td>172.2</td>\n",
       "      <td>NaN</td>\n",
       "      <td>NaN</td>\n",
       "      <td>4.0</td>\n",
       "      <td>1.0</td>\n",
       "      <td>...</td>\n",
       "      <td>0.0</td>\n",
       "      <td>NaN</td>\n",
       "      <td>NaN</td>\n",
       "      <td>NaN</td>\n",
       "      <td>NaN</td>\n",
       "      <td>NaN</td>\n",
       "      <td>NaN</td>\n",
       "      <td>NaN</td>\n",
       "      <td>NaN</td>\n",
       "      <td>NaN</td>\n",
       "    </tr>\n",
       "    <tr>\n",
       "      <th>5</th>\n",
       "      <td>4/19/2022</td>\n",
       "      <td>2</td>\n",
       "      <td>NaN</td>\n",
       "      <td>NaN</td>\n",
       "      <td>NaN</td>\n",
       "      <td>173.6</td>\n",
       "      <td>NaN</td>\n",
       "      <td>NaN</td>\n",
       "      <td>NaN</td>\n",
       "      <td>NaN</td>\n",
       "      <td>...</td>\n",
       "      <td>1.0</td>\n",
       "      <td>NaN</td>\n",
       "      <td>NaN</td>\n",
       "      <td>NaN</td>\n",
       "      <td>NaN</td>\n",
       "      <td>NaN</td>\n",
       "      <td>NaN</td>\n",
       "      <td>NaN</td>\n",
       "      <td>NaN</td>\n",
       "      <td>NaN</td>\n",
       "    </tr>\n",
       "    <tr>\n",
       "      <th>6</th>\n",
       "      <td>4/20/2022</td>\n",
       "      <td>3</td>\n",
       "      <td>NaN</td>\n",
       "      <td>NaN</td>\n",
       "      <td>NaN</td>\n",
       "      <td>173.9</td>\n",
       "      <td>NaN</td>\n",
       "      <td>NaN</td>\n",
       "      <td>NaN</td>\n",
       "      <td>NaN</td>\n",
       "      <td>...</td>\n",
       "      <td>NaN</td>\n",
       "      <td>NaN</td>\n",
       "      <td>NaN</td>\n",
       "      <td>NaN</td>\n",
       "      <td>NaN</td>\n",
       "      <td>NaN</td>\n",
       "      <td>NaN</td>\n",
       "      <td>NaN</td>\n",
       "      <td>NaN</td>\n",
       "      <td>NaN</td>\n",
       "    </tr>\n",
       "    <tr>\n",
       "      <th>7</th>\n",
       "      <td>4/21/2022</td>\n",
       "      <td>4</td>\n",
       "      <td>86.0</td>\n",
       "      <td>NaN</td>\n",
       "      <td>7.683</td>\n",
       "      <td>173.9</td>\n",
       "      <td>NaN</td>\n",
       "      <td>NaN</td>\n",
       "      <td>8.0</td>\n",
       "      <td>0.0</td>\n",
       "      <td>...</td>\n",
       "      <td>0.0</td>\n",
       "      <td>2.0</td>\n",
       "      <td>0.0</td>\n",
       "      <td>6.0</td>\n",
       "      <td>3.0</td>\n",
       "      <td>16.0</td>\n",
       "      <td>0.0</td>\n",
       "      <td>0.0</td>\n",
       "      <td>0.0</td>\n",
       "      <td>NaN</td>\n",
       "    </tr>\n",
       "    <tr>\n",
       "      <th>8</th>\n",
       "      <td>4/22/2022</td>\n",
       "      <td>5</td>\n",
       "      <td>93.0</td>\n",
       "      <td>NaN</td>\n",
       "      <td>8.367</td>\n",
       "      <td>175.8</td>\n",
       "      <td>21.9</td>\n",
       "      <td>56.3</td>\n",
       "      <td>7.0</td>\n",
       "      <td>0.0</td>\n",
       "      <td>...</td>\n",
       "      <td>0.0</td>\n",
       "      <td>2.0</td>\n",
       "      <td>1.0</td>\n",
       "      <td>7.0</td>\n",
       "      <td>6.0</td>\n",
       "      <td>15.0</td>\n",
       "      <td>0.0</td>\n",
       "      <td>0.0</td>\n",
       "      <td>0.0</td>\n",
       "      <td>NaN</td>\n",
       "    </tr>\n",
       "    <tr>\n",
       "      <th>9</th>\n",
       "      <td>4/23/2022</td>\n",
       "      <td>6</td>\n",
       "      <td>88.0</td>\n",
       "      <td>NaN</td>\n",
       "      <td>8.250</td>\n",
       "      <td>177.0</td>\n",
       "      <td>22.2</td>\n",
       "      <td>56.2</td>\n",
       "      <td>7.0</td>\n",
       "      <td>0.0</td>\n",
       "      <td>...</td>\n",
       "      <td>1.0</td>\n",
       "      <td>2.0</td>\n",
       "      <td>1.0</td>\n",
       "      <td>6.0</td>\n",
       "      <td>4.0</td>\n",
       "      <td>16.5</td>\n",
       "      <td>0.0</td>\n",
       "      <td>0.0</td>\n",
       "      <td>0.0</td>\n",
       "      <td>NaN</td>\n",
       "    </tr>\n",
       "  </tbody>\n",
       "</table>\n",
       "<p>10 rows × 29 columns</p>\n",
       "</div>"
      ],
      "text/plain": [
       "        Date  Day of Week  Whoop Recovery   HRV  Hours of Sleep  Body Weight  \\\n",
       "0  4/14/2022            4            99.0  61.0           8.950        174.5   \n",
       "1  4/15/2022            5            81.0  51.0           9.050        175.8   \n",
       "2  4/16/2022            6            82.0  51.0           8.330        177.0   \n",
       "3  4/17/2022            0            76.0  51.0           7.320        174.8   \n",
       "4  4/18/2022            1            77.0  51.0           6.920        172.2   \n",
       "5  4/19/2022            2             NaN   NaN             NaN        173.6   \n",
       "6  4/20/2022            3             NaN   NaN             NaN        173.9   \n",
       "7  4/21/2022            4            86.0   NaN           7.683        173.9   \n",
       "8  4/22/2022            5            93.0   NaN           8.367        175.8   \n",
       "9  4/23/2022            6            88.0   NaN           8.250        177.0   \n",
       "\n",
       "   Body Fat %  Body Water %  Hydration Score (urine)  Sick Feeling  ...  \\\n",
       "0         NaN           NaN                      7.0           2.0  ...   \n",
       "1         NaN           NaN                      7.0           1.0  ...   \n",
       "2         NaN           NaN                      5.0           1.0  ...   \n",
       "3         NaN           NaN                      5.0           2.0  ...   \n",
       "4         NaN           NaN                      4.0           1.0  ...   \n",
       "5         NaN           NaN                      NaN           NaN  ...   \n",
       "6         NaN           NaN                      NaN           NaN  ...   \n",
       "7         NaN           NaN                      8.0           0.0  ...   \n",
       "8        21.9          56.3                      7.0           0.0  ...   \n",
       "9        22.2          56.2                      7.0           0.0  ...   \n",
       "\n",
       "   Lift?  Protein Shake?  Fun Rating  Family Love Rating  Tired Rating  \\\n",
       "0    0.0             0.0         7.0                 7.0           5.0   \n",
       "1    1.0             0.0         2.0                 6.0           8.0   \n",
       "2    0.0             0.0         4.0                 6.0           6.0   \n",
       "3    0.0             0.0         8.0                 8.0           3.0   \n",
       "4    0.0             NaN         NaN                 NaN           NaN   \n",
       "5    1.0             NaN         NaN                 NaN           NaN   \n",
       "6    NaN             NaN         NaN                 NaN           NaN   \n",
       "7    0.0             2.0         0.0                 6.0           3.0   \n",
       "8    0.0             2.0         1.0                 7.0           6.0   \n",
       "9    1.0             2.0         1.0                 6.0           4.0   \n",
       "\n",
       "   Strain  Alcohol (# of Drinks)  CBD (mg)  Melatonin  Current BA  \n",
       "0    15.7                    0.0       0.0        0.0         NaN  \n",
       "1    17.5                    0.0       0.0        0.0         NaN  \n",
       "2    13.9                    2.0       0.0        0.0         NaN  \n",
       "3     5.5                    1.0       0.0        0.0         NaN  \n",
       "4     NaN                    NaN       NaN        NaN         NaN  \n",
       "5     NaN                    NaN       NaN        NaN         NaN  \n",
       "6     NaN                    NaN       NaN        NaN         NaN  \n",
       "7    16.0                    0.0       0.0        0.0         NaN  \n",
       "8    15.0                    0.0       0.0        0.0         NaN  \n",
       "9    16.5                    0.0       0.0        0.0         NaN  \n",
       "\n",
       "[10 rows x 29 columns]"
      ]
     },
     "execution_count": 50,
     "metadata": {},
     "output_type": "execute_result"
    }
   ],
   "source": [
    "drop_headers = ['Thought of the Day', 'Game Notes']\n",
    "\n",
    "data = data.drop(drop_headers, axis=1)\n",
    "data = data.dropna(axis=0, thresh=3)\n",
    "column_headers = data.columns\n",
    "num_entries = data.shape[0]\n",
    "data.iloc[0:10,:]"
   ]
  },
  {
   "cell_type": "code",
   "execution_count": 51,
   "metadata": {},
   "outputs": [],
   "source": [
    "target_variables = ['Whoop Recovery', 'HRV', 'Body Weight', 'Current BA']\n",
    "\n",
    "morning_variables = ['Day of Week', 'Whoop Recovery', 'HRV', 'Hours of Sleep',\n",
    "                     'Body Weight', 'Body Fat %', 'Body Water %', 'Hydration Score (urine)',\n",
    "                     'Sick Feeling', 'Soreness/Fatigue Score', 'Fitness Rating',\n",
    "                     'Positivity Score (1-10)', 'Confidence Score', 'Date']\n",
    "night_variables = ['Caffeine in mg',\n",
    "                   'Water Before Coffee?', 'Breakfast Before Coffee?',\n",
    "                   'Devo Quality (1-10)', 'Game?', 'Lift?', 'Protein Shake?', 'Fun Rating',\n",
    "                   'Family Love Rating', 'Tired Rating', 'Strain', 'Alcohol (# of Drinks)',\n",
    "                   'CBD (mg)', 'Melatonin', 'Current BA']"
   ]
  },
  {
   "cell_type": "code",
   "execution_count": 52,
   "metadata": {},
   "outputs": [],
   "source": [
    "def update_df(df, morning, night, target):\n",
    "    if target in night:\n",
    "        night.remove(target)\n",
    "    df['Date'] = pd.to_datetime(df['Date'])\n",
    "    curr_day = df.drop(night, axis=1)\n",
    "    prev_day = df.drop(morning, axis=1)\n",
    "    prev_day = prev_day.shift(periods=1)\n",
    "    return pd.concat([curr_day, prev_day], axis=1, join='inner')\n",
    "    \n",
    "adjusted_df = update_df(data, morning=morning_variables, night=night_variables, target=target_variables[0])"
   ]
  },
  {
   "cell_type": "code",
   "execution_count": 53,
   "metadata": {},
   "outputs": [
    {
     "data": {
      "text/html": [
       "<div>\n",
       "<style scoped>\n",
       "    .dataframe tbody tr th:only-of-type {\n",
       "        vertical-align: middle;\n",
       "    }\n",
       "\n",
       "    .dataframe tbody tr th {\n",
       "        vertical-align: top;\n",
       "    }\n",
       "\n",
       "    .dataframe thead th {\n",
       "        text-align: right;\n",
       "    }\n",
       "</style>\n",
       "<table border=\"1\" class=\"dataframe\">\n",
       "  <thead>\n",
       "    <tr style=\"text-align: right;\">\n",
       "      <th></th>\n",
       "      <th>Day of Week</th>\n",
       "      <th>Hours of Sleep</th>\n",
       "      <th>Body Weight</th>\n",
       "      <th>Sick Feeling</th>\n",
       "      <th>Alcohol (# of Drinks)</th>\n",
       "      <th>CBD (mg)</th>\n",
       "    </tr>\n",
       "  </thead>\n",
       "  <tbody>\n",
       "    <tr>\n",
       "      <th>1</th>\n",
       "      <td>5</td>\n",
       "      <td>9.050</td>\n",
       "      <td>175.8</td>\n",
       "      <td>1.0</td>\n",
       "      <td>0.0</td>\n",
       "      <td>0.0</td>\n",
       "    </tr>\n",
       "    <tr>\n",
       "      <th>2</th>\n",
       "      <td>6</td>\n",
       "      <td>8.330</td>\n",
       "      <td>177.0</td>\n",
       "      <td>1.0</td>\n",
       "      <td>0.0</td>\n",
       "      <td>0.0</td>\n",
       "    </tr>\n",
       "    <tr>\n",
       "      <th>3</th>\n",
       "      <td>0</td>\n",
       "      <td>7.320</td>\n",
       "      <td>174.8</td>\n",
       "      <td>2.0</td>\n",
       "      <td>2.0</td>\n",
       "      <td>0.0</td>\n",
       "    </tr>\n",
       "    <tr>\n",
       "      <th>4</th>\n",
       "      <td>1</td>\n",
       "      <td>6.920</td>\n",
       "      <td>172.2</td>\n",
       "      <td>1.0</td>\n",
       "      <td>1.0</td>\n",
       "      <td>0.0</td>\n",
       "    </tr>\n",
       "    <tr>\n",
       "      <th>8</th>\n",
       "      <td>5</td>\n",
       "      <td>8.367</td>\n",
       "      <td>175.8</td>\n",
       "      <td>0.0</td>\n",
       "      <td>0.0</td>\n",
       "      <td>0.0</td>\n",
       "    </tr>\n",
       "    <tr>\n",
       "      <th>9</th>\n",
       "      <td>6</td>\n",
       "      <td>8.250</td>\n",
       "      <td>177.0</td>\n",
       "      <td>0.0</td>\n",
       "      <td>0.0</td>\n",
       "      <td>0.0</td>\n",
       "    </tr>\n",
       "    <tr>\n",
       "      <th>10</th>\n",
       "      <td>0</td>\n",
       "      <td>7.233</td>\n",
       "      <td>174.8</td>\n",
       "      <td>0.0</td>\n",
       "      <td>0.0</td>\n",
       "      <td>0.0</td>\n",
       "    </tr>\n",
       "    <tr>\n",
       "      <th>11</th>\n",
       "      <td>1</td>\n",
       "      <td>6.350</td>\n",
       "      <td>172.2</td>\n",
       "      <td>0.0</td>\n",
       "      <td>3.0</td>\n",
       "      <td>0.0</td>\n",
       "    </tr>\n",
       "    <tr>\n",
       "      <th>12</th>\n",
       "      <td>2</td>\n",
       "      <td>8.300</td>\n",
       "      <td>173.6</td>\n",
       "      <td>0.0</td>\n",
       "      <td>0.0</td>\n",
       "      <td>0.0</td>\n",
       "    </tr>\n",
       "    <tr>\n",
       "      <th>13</th>\n",
       "      <td>3</td>\n",
       "      <td>7.283</td>\n",
       "      <td>173.9</td>\n",
       "      <td>3.0</td>\n",
       "      <td>0.0</td>\n",
       "      <td>0.0</td>\n",
       "    </tr>\n",
       "  </tbody>\n",
       "</table>\n",
       "</div>"
      ],
      "text/plain": [
       "    Day of Week  Hours of Sleep  Body Weight  Sick Feeling  \\\n",
       "1             5           9.050        175.8           1.0   \n",
       "2             6           8.330        177.0           1.0   \n",
       "3             0           7.320        174.8           2.0   \n",
       "4             1           6.920        172.2           1.0   \n",
       "8             5           8.367        175.8           0.0   \n",
       "9             6           8.250        177.0           0.0   \n",
       "10            0           7.233        174.8           0.0   \n",
       "11            1           6.350        172.2           0.0   \n",
       "12            2           8.300        173.6           0.0   \n",
       "13            3           7.283        173.9           3.0   \n",
       "\n",
       "    Alcohol (# of Drinks)  CBD (mg)  \n",
       "1                     0.0       0.0  \n",
       "2                     0.0       0.0  \n",
       "3                     2.0       0.0  \n",
       "4                     1.0       0.0  \n",
       "8                     0.0       0.0  \n",
       "9                     0.0       0.0  \n",
       "10                    0.0       0.0  \n",
       "11                    3.0       0.0  \n",
       "12                    0.0       0.0  \n",
       "13                    0.0       0.0  "
      ]
     },
     "execution_count": 53,
     "metadata": {},
     "output_type": "execute_result"
    }
   ],
   "source": [
    "def drop_nans(df, threshold=0.5):\n",
    "    df_length = df.shape[0]\n",
    "    df = df.dropna(thresh=threshold * df_length, axis=1).dropna(how='any', axis=0)\n",
    "    return df\n",
    "    \n",
    "adjusted_df = drop_nans(adjusted_df)\n",
    "X = adjusted_df.drop([target_variables[0], 'Date'], axis=1)\n",
    "y = adjusted_df[target_variables[0]]\n",
    "\n",
    "X_train, X_test, y_train, y_test = train_test_split(X, y, random_state=42)\n",
    "X.iloc[0:10,:]"
   ]
  },
  {
   "cell_type": "code",
   "execution_count": 54,
   "metadata": {},
   "outputs": [
    {
     "data": {
      "text/plain": [
       "1     81.0\n",
       "2     82.0\n",
       "3     76.0\n",
       "4     77.0\n",
       "8     93.0\n",
       "9     88.0\n",
       "10    63.0\n",
       "11    34.0\n",
       "12    96.0\n",
       "13    67.0\n",
       "Name: Whoop Recovery, dtype: float64"
      ]
     },
     "execution_count": 54,
     "metadata": {},
     "output_type": "execute_result"
    }
   ],
   "source": [
    "y[0:10]"
   ]
  },
  {
   "cell_type": "code",
   "execution_count": 55,
   "metadata": {},
   "outputs": [
    {
     "name": "stdout",
     "output_type": "stream",
     "text": [
      "Total Training Size: 18\n",
      "Total Testing Size: 6\n",
      "Total Observations: 24\n"
     ]
    }
   ],
   "source": [
    "print(f'Total Training Size: {X_train.shape[0]}')\n",
    "print(f'Total Testing Size: {X_test.shape[0]}')\n",
    "print(f'Total Observations: {y.shape[0]}')"
   ]
  },
  {
   "cell_type": "markdown",
   "metadata": {},
   "source": [
    "# Random Forest Regression"
   ]
  },
  {
   "cell_type": "markdown",
   "metadata": {},
   "source": [
    "### Reasoning and Methodology "
   ]
  },
  {
   "cell_type": "markdown",
   "metadata": {},
   "source": [
    "Random Forest Regression is a robust machine learning algorithm which uses random sampling and bootstrapping from decision trees to make continuous predictions on target variables. I chose this as the first model to be implemented because of its capability to accomodate both continuous and discrete variable. Since the decision trees themselves also support this input flexibility, Random Forest Regression is an excellent candidate for this data."
   ]
  },
  {
   "cell_type": "markdown",
   "metadata": {},
   "source": [
    "### Implementation "
   ]
  },
  {
   "cell_type": "code",
   "execution_count": 56,
   "metadata": {},
   "outputs": [],
   "source": [
    "from sklearn.ensemble import RandomForestRegressor\n",
    "from sklearn.metrics import mean_squared_error"
   ]
  },
  {
   "cell_type": "code",
   "execution_count": 57,
   "metadata": {},
   "outputs": [
    {
     "name": "stdout",
     "output_type": "stream",
     "text": [
      "R-squared: 0.84\n"
     ]
    }
   ],
   "source": [
    "rfr = RandomForestRegressor()\n",
    "\n",
    "rfr.fit(X_train, y_train)\n",
    "\n",
    "score = rfr.score(X_train, y_train)\n",
    "print(\"R-squared:\", round(score, 2)) "
   ]
  },
  {
   "cell_type": "code",
   "execution_count": 58,
   "metadata": {},
   "outputs": [
    {
     "name": "stdout",
     "output_type": "stream",
     "text": [
      "MSE:  339.47\n",
      "RMSE:  18.42\n"
     ]
    }
   ],
   "source": [
    "y_pred = rfr.predict(X_test)\n",
    "\n",
    "mse = mean_squared_error(y_test, y_pred)\n",
    "print(\"MSE: \", round(mse, 2))\n",
    "print(\"RMSE: \", round(mse**(1/2.0), 2)) "
   ]
  },
  {
   "cell_type": "code",
   "execution_count": 59,
   "metadata": {},
   "outputs": [
    {
     "data": {
      "image/png": "[encoded data removed]",
      "text/plain": [
       "<Figure size 432x288 with 1 Axes>"
      ]
     },
     "metadata": {
      "needs_background": "light"
     },
     "output_type": "display_data"
    }
   ],
   "source": [
    "x_ax = range(len(y_test))\n",
    "plt.plot(x_ax, y_test, linewidth=1, label=f\"Actual {y.name}\")\n",
    "plt.plot(x_ax, y_pred, linewidth=1.1, label=f\"Predicted {y.name}\")\n",
    "plt.title(f\"Predicted {y.name} vs. Actual {y.name}\")\n",
    "plt.xlabel('Observation Number')\n",
    "plt.ylabel(f'{y.name} (lbs)')\n",
    "plt.legend(loc='best',fancybox=True, shadow=True)\n",
    "plt.grid(True)\n",
    "plt.show() "
   ]
  },
  {
   "cell_type": "markdown",
   "metadata": {},
   "source": [
    "### Analysis and Impact "
   ]
  },
  {
   "cell_type": "markdown",
   "metadata": {},
   "source": [
    "# Linear Regression"
   ]
  },
  {
   "cell_type": "markdown",
   "metadata": {},
   "source": [
    "### Reasoning and Methodology "
   ]
  },
  {
   "cell_type": "markdown",
   "metadata": {},
   "source": [
    "Though Random Forest Regression seems to be a reasonable and scalable fit for the data, it is worth implementing Linear Regression because of it's simplicity. While it is certainly simple to implement, it is also more easily understandable to peopel with less experience with data and statistics. Linear regression also allows flexibility in inputting both continous and discrete variables by normalizing discrete variables to become continuous. This model also outputs clear regression coefficients, which are extremely readable and applicable to this project."
   ]
  },
  {
   "cell_type": "markdown",
   "metadata": {},
   "source": [
    "### Implementation "
   ]
  },
  {
   "cell_type": "code",
   "execution_count": 60,
   "metadata": {},
   "outputs": [],
   "source": [
    "from sklearn.linear_model import LinearRegression\n",
    "from sklearn.metrics import r2_score"
   ]
  },
  {
   "cell_type": "code",
   "execution_count": 61,
   "metadata": {},
   "outputs": [
    {
     "data": {
      "text/plain": [
       "-2.8150258759391678"
      ]
     },
     "execution_count": 61,
     "metadata": {},
     "output_type": "execute_result"
    }
   ],
   "source": [
    "regr = LinearRegression()\n",
    "regr.fit(X_train, y_train)\n",
    "\n",
    "y_pred = regr.predict(X_test)\n",
    "r2_score(y_pred, y_test)"
   ]
  },
  {
   "cell_type": "code",
   "execution_count": 62,
   "metadata": {},
   "outputs": [],
   "source": [
    "feature_titles = X_train.columns\n",
    "reg_coef = regr.coef_"
   ]
  },
  {
   "cell_type": "code",
   "execution_count": 63,
   "metadata": {},
   "outputs": [
    {
     "name": "stdout",
     "output_type": "stream",
     "text": [
      "Day of Week: 2.34\n",
      "Hours of Sleep: -4.9\n",
      "Body Weight: 2.04\n",
      "Sick Feeling: -2.79\n",
      "Alcohol (# of Drinks): -7.03\n",
      "CBD (mg): 0.0\n"
     ]
    }
   ],
   "source": [
    "for i in range(len(feature_titles)):\n",
    "    print(f'{feature_titles[i]}: {round(reg_coef[i], 2)}')"
   ]
  },
  {
   "cell_type": "markdown",
   "metadata": {},
   "source": [
    "### Analysis and Impact "
   ]
  },
  {
   "cell_type": "code",
   "execution_count": null,
   "metadata": {},
   "outputs": [],
   "source": []
  }
 ],
 "metadata": {
  "kernelspec": {
   "display_name": "Python 3",
   "language": "python",
   "name": "python3"
  },
  "language_info": {
   "codemirror_mode": {
    "name": "ipython",
    "version": 3
   },
   "file_extension": ".py",
   "mimetype": "text/x-python",
   "name": "python",
   "nbconvert_exporter": "python",
   "pygments_lexer": "ipython3",
   "version": "3.8.5"
  }
 },
 "nbformat": 4,
 "nbformat_minor": 4
}
